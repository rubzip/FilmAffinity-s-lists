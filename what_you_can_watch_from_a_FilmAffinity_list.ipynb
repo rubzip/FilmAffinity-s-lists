{
 "cells": [
  {
   "cell_type": "markdown",
   "id": "379dc217",
   "metadata": {},
   "source": [
    "# FilmAffinity's lists\n",
    "\n",
    "FA does't show in what platform you can watch movies from a FA's list.\n",
    "\n",
    "I have made my own solution using webscrapping.\n",
    "\n",
    "## VPNs and Platforms\n",
    "\n",
    "Platforms catalogue is different in every country, there are some movies that you can see in Netflix US but not in Netflix UK.\n",
    "\n",
    "I have automatized the way to search. The program gives you in what platforms you can watch the movies in four countries: Spain, US, UK and Canada (I'm limited by FilmAffinity). So if you have access to a VPN, you can see more movies!\n",
    "\n",
    "# Listas de FilmAffinity\n",
    "\n",
    "En FilmAffinity no puedes saber de manera directa en qué plataforma se encuentran las peliculas de una lista.\n",
    "\n",
    "He implementado mediante webscrapping una solución a este problema.\n",
    "\n",
    "## VPNs y plataformas\n",
    "\n",
    "Por motivos de distribuidoras y derechos, el catálogo de las plataformas es distinto en cada país, existen algunas películas que pueden verse en Netflix US pero no en Netflix España.\n",
    "\n",
    "Por esto he implementado una manera de automatizar la búsqueda. El programa te dice en qué plataformas puedes ver las películas de la lista en cuatro países: España, EEUU, Reino Unido y Canadá (el programa está limitado por FA). ¡Así que si tienes acceso a una VPN podrás ver muchas más peliculas!"
   ]
  },
  {
   "cell_type": "code",
   "execution_count": 1,
   "id": "c92f7c79",
   "metadata": {},
   "outputs": [],
   "source": [
    "from bs4 import BeautifulSoup\n",
    "import pandas as pd\n",
    "import requests\n",
    "from fun import *"
   ]
  },
  {
   "cell_type": "code",
   "execution_count": 2,
   "id": "e582c1c1",
   "metadata": {},
   "outputs": [],
   "source": [
    "#All acepted platforms:\n",
    "all_platforms = [\n",
    " 'Starz Play Amazon Channel',\n",
    " 'Filmin Plus',\n",
    " 'Movistar Plus',\n",
    " 'Netflix',\n",
    " 'Filmin',\n",
    " 'fuboTV',\n",
    " 'Rakuten TV',\n",
    " 'HBO',\n",
    " 'Microsoft Store',\n",
    " 'Amazon Prime Video',\n",
    " 'Spamflix',\n",
    " 'Google Play Movies',\n",
    " 'Amazon Video',\n",
    " 'Apple iTunes',\n",
    " 'HBO Max']\n",
    "#All countries:\n",
    "all_countries = [\n",
    " 'es',\n",
    " 'us',\n",
    " 'uk',\n",
    " 'ca',\n",
    "]"
   ]
  },
  {
   "cell_type": "code",
   "execution_count": 3,
   "id": "4e0cf9c1",
   "metadata": {},
   "outputs": [],
   "source": [
    "#Only edit this cell:\n",
    "\n",
    "#URL of the list:\n",
    "URL = 'https://www.filmaffinity.com/es/userlist.php?user_id=9046485&list_id=220'\n",
    "#Number of pages of the list:\n",
    "num_pages = 2 \n",
    "#Name of the CSV generated with all movies in FA's list\n",
    "CSV_file_name = 'list.csv'\n",
    "#Name of the CSV generated with all movies in FA's list that you can watch\n",
    "CSV_file_you_can_watch = 'you_can_watch.csv'\n",
    "#List of all platforms where you have an account:\n",
    "your_plattforms = ['Filmin', 'Netflix']\n",
    "#Countries (VPN): \n",
    "countries = ['es', 'us']"
   ]
  },
  {
   "cell_type": "code",
   "execution_count": null,
   "id": "b0f18bab",
   "metadata": {
    "scrolled": true
   },
   "outputs": [
    {
     "name": "stderr",
     "output_type": "stream",
     "text": [
      "/home/ruben/Escritorio/FilmAffinity/fun.py:71: GuessedAtParserWarning: No parser was explicitly specified, so I'm using the best available HTML parser for this system (\"lxml\"). This usually isn't a problem, but if you run this code on another system, or in a different virtual environment, it may use a different parser and behave differently.\n",
      "\n",
      "The code that caused this warning is on line 71 of the file /home/ruben/Escritorio/FilmAffinity/fun.py. To get rid of this warning, pass the additional argument 'features=\"lxml\"' to the BeautifulSoup constructor.\n",
      "\n",
      "  soup = BeautifulSoup(page.content, 'html')\n"
     ]
    },
    {
     "name": "stdout",
     "output_type": "stream",
     "text": [
      "Importing info from internet...\n",
      "\t Master of None (Serie de TV)\n",
      "\t The Boys (Serie de TV)\n",
      "\t Larry David (Curb Your Enthusiasm) (Serie de TV)\n",
      "\t Mad Men (Serie de TV)\n",
      "\t The Wire (Bajo escucha) (Serie de TV)\n",
      "\t Rockefeller Plaza (30 Rock) (Serie de TV)\n",
      "\t A dos metros bajo tierra (Serie de TV)\n",
      "\t Maron (Serie de TV)\n",
      "\t Vota Juan (Miniserie de TV)\n",
      "\t Parks and Recreation (Serie de TV)\n",
      "\t Horace and Pete (Serie de TV)\n",
      "\t Baskets (Serie de TV)\n",
      "\t Kidding (Serie de TV)\n",
      "\t High Maintenance (Serie de TV)\n",
      "\t Devs (Miniserie de TV)\n",
      "\t Los Conchords (Serie de TV)\n",
      "\t Freaks and Geeks (Serie de TV)\n",
      "\t Sarah Silverman: We Are Miracles (TV) (TV)\n",
      "\t Documentary Now! (Serie de TV)\n",
      "\t ¿Quién es América? (Serie de TV)\n",
      "\t Extras (Serie de TV)\n",
      "\t Arrested Development (Serie de TV)\n",
      "\t Dave (Serie de TV)\n",
      "\t Review (Serie de TV)\n",
      "\t Da Ali G Show (Serie de TV)\n",
      "\t Da Ali G Show (Serie de TV)\n",
      "\t Years and Years (Miniserie de TV)\n",
      "\t Killing Eve (Serie de TV)\n",
      "\t Barry (Serie de TV)\n",
      "\t Un idiota de viaje (Serie de TV)\n",
      "\t Morir de pie (Serie de TV)\n"
     ]
    }
   ],
   "source": [
    "list_name, movies = import_movies(URL, num_pages)\n",
    "data = []\n",
    "print('Importing info from internet...')\n",
    "for movie in movies:\n",
    "    name, rating, URL = movie_info(movie)\n",
    "    print('\\t', name)\n",
    "    \n",
    "    platforms_countries = []\n",
    "    for country in countries:\n",
    "        page = requests.get(URL[:29]+country+URL[31:])\n",
    "        soup = BeautifulSoup(page.content, 'html')\n",
    "        platfforms = rent_plattforms(soup, country)\n",
    "        platforms_countries.append(platfforms)\n",
    "    \n",
    "    data.append([name, rating] + platforms_countries + [URL])"
   ]
  },
  {
   "cell_type": "code",
   "execution_count": null,
   "id": "6f84529d",
   "metadata": {},
   "outputs": [],
   "source": [
    "df = generate_movies_df(data, countries)\n",
    "df.to_csv(CSV_file_name)\n",
    "df"
   ]
  },
  {
   "cell_type": "code",
   "execution_count": null,
   "id": "3523fc0d",
   "metadata": {},
   "outputs": [],
   "source": [
    "df_you_can = what_you_can_watch(df, your_plattforms, countries)\n",
    "df_you_can.to_csv(CSV_file_you_can_watch)\n",
    "print('You can see from {} list all these movies: '.format(list_name))\n",
    "df_you_can\n"
   ]
  },
  {
   "cell_type": "code",
   "execution_count": null,
   "id": "88cd761c",
   "metadata": {},
   "outputs": [],
   "source": [
    "  "
   ]
  },
  {
   "cell_type": "code",
   "execution_count": null,
   "id": "cedeb4d2",
   "metadata": {},
   "outputs": [],
   "source": []
  }
 ],
 "metadata": {
  "kernelspec": {
   "display_name": "Python 3 (ipykernel)",
   "language": "python",
   "name": "python3"
  },
  "language_info": {
   "codemirror_mode": {
    "name": "ipython",
    "version": 3
   },
   "file_extension": ".py",
   "mimetype": "text/x-python",
   "name": "python",
   "nbconvert_exporter": "python",
   "pygments_lexer": "ipython3",
   "version": "3.9.5"
  }
 },
 "nbformat": 4,
 "nbformat_minor": 5
}
